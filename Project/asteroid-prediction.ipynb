{
 "cells": [
  {
   "cell_type": "markdown",
   "id": "5b11e5b7",
   "metadata": {},
   "source": [
    "# Predicting Diameter and Potential Harm of Asteroids using Machine Learning\n",
    "\n",
    "**Authors** :\n",
    "Colin Campbell (c_c953), Jake Worden (jrw294), Leah Lewis (lrl68) and Ryan Wakabayashi (rjw102)\n",
    "\n",
    "This uses the Asteroid dataset:  https://www.kaggle.com/basu369victor/prediction-of-asteroid-diameter"
   ]
  },
  {
   "cell_type": "markdown",
   "id": "43599ad2",
   "metadata": {},
   "source": [
    "# Part 1 : Predicting Diameter"
   ]
  },
  {
   "cell_type": "markdown",
   "id": "4956d26a",
   "metadata": {},
   "source": [
    "## Setup\n",
    "\n",
    "Load python packages for data prepartion and analysis."
   ]
  },
  {
   "cell_type": "code",
   "execution_count": 31,
   "id": "27a2dd62",
   "metadata": {},
   "outputs": [],
   "source": [
    "import pandas as pd"
   ]
  },
  {
   "cell_type": "markdown",
   "id": "622b73cb",
   "metadata": {},
   "source": [
    "## Read Data\n",
    "Load the asteroid dataset into a dataframe"
   ]
  },
  {
   "cell_type": "code",
   "execution_count": 32,
   "id": "684738b6",
   "metadata": {},
   "outputs": [
    {
     "name": "stdout",
     "output_type": "stream",
     "text": [
      "<class 'pandas.core.frame.DataFrame'>\n",
      "RangeIndex: 839714 entries, 0 to 839713\n",
      "Data columns (total 31 columns):\n",
      " #   Column          Non-Null Count   Dtype  \n",
      "---  ------          --------------   -----  \n",
      " 0   name            21967 non-null   object \n",
      " 1   a               839712 non-null  float64\n",
      " 2   e               839714 non-null  float64\n",
      " 3   i               839714 non-null  float64\n",
      " 4   om              839714 non-null  float64\n",
      " 5   w               839714 non-null  float64\n",
      " 6   q               839714 non-null  float64\n",
      " 7   ad              839708 non-null  float64\n",
      " 8   per_y           839713 non-null  float64\n",
      " 9   data_arc        824240 non-null  float64\n",
      " 10  condition_code  838847 non-null  object \n",
      " 11  n_obs_used      839714 non-null  int64  \n",
      " 12  H               837025 non-null  float64\n",
      " 13  neo             839708 non-null  object \n",
      " 14  pha             823272 non-null  object \n",
      " 15  diameter        137636 non-null  object \n",
      " 16  extent          18 non-null      object \n",
      " 17  albedo          136409 non-null  float64\n",
      " 18  rot_per         18796 non-null   float64\n",
      " 19  GM              14 non-null      float64\n",
      " 20  BV              1021 non-null    float64\n",
      " 21  UB              979 non-null     float64\n",
      " 22  IR              1 non-null       float64\n",
      " 23  spec_B          1666 non-null    object \n",
      " 24  spec_T          980 non-null     object \n",
      " 25  G               119 non-null     float64\n",
      " 26  moid            823272 non-null  float64\n",
      " 27  class           839714 non-null  object \n",
      " 28  n               839712 non-null  float64\n",
      " 29  per             839708 non-null  float64\n",
      " 30  ma              839706 non-null  float64\n",
      "dtypes: float64(21), int64(1), object(9)\n",
      "memory usage: 198.6+ MB\n"
     ]
    }
   ],
   "source": [
    "df= pd.read_csv(\"Asteroid_Updated.csv\")\n",
    "df.info()"
   ]
  },
  {
   "cell_type": "markdown",
   "id": "2b303df2",
   "metadata": {},
   "source": [
    "## Droping Null Values\n",
    "\n",
    "Print the sum of null values to determine which columns had a high percentage of null values."
   ]
  },
  {
   "cell_type": "code",
   "execution_count": 33,
   "id": "adbc5771",
   "metadata": {},
   "outputs": [
    {
     "name": "stdout",
     "output_type": "stream",
     "text": [
      "(839714, 31)\n",
      "name              817747\n",
      "a                      2\n",
      "e                      0\n",
      "i                      0\n",
      "om                     0\n",
      "w                      0\n",
      "q                      0\n",
      "ad                     6\n",
      "per_y                  1\n",
      "data_arc           15474\n",
      "condition_code       867\n",
      "n_obs_used             0\n",
      "H                   2689\n",
      "neo                    6\n",
      "pha                16442\n",
      "diameter          702078\n",
      "extent            839696\n",
      "albedo            703305\n",
      "rot_per           820918\n",
      "GM                839700\n",
      "BV                838693\n",
      "UB                838735\n",
      "IR                839713\n",
      "spec_B            838048\n",
      "spec_T            838734\n",
      "G                 839595\n",
      "moid               16442\n",
      "class                  0\n",
      "n                      2\n",
      "per                    6\n",
      "ma                     8\n",
      "dtype: int64\n"
     ]
    }
   ],
   "source": [
    "print(df.shape)\n",
    "print(df.isnull().sum())"
   ]
  },
  {
   "cell_type": "markdown",
   "id": "e2c9d9d6",
   "metadata": {},
   "source": []
  },
  {
   "cell_type": "code",
   "execution_count": 34,
   "id": "98115f66",
   "metadata": {},
   "outputs": [
    {
     "name": "stdout",
     "output_type": "stream",
     "text": [
      "(839714, 20)\n",
      "a                      2\n",
      "e                      0\n",
      "i                      0\n",
      "om                     0\n",
      "w                      0\n",
      "q                      0\n",
      "ad                     6\n",
      "per_y                  1\n",
      "data_arc           15474\n",
      "condition_code       867\n",
      "n_obs_used             0\n",
      "H                   2689\n",
      "neo                    6\n",
      "pha                16442\n",
      "diameter          702078\n",
      "moid               16442\n",
      "class                  0\n",
      "n                      2\n",
      "per                    6\n",
      "ma                     8\n",
      "dtype: int64\n"
     ]
    }
   ],
   "source": [
    "columns = ['name', 'extent', 'albedo', 'rot_per', 'GM', 'BV', 'G', 'UB', 'IR', 'spec_B', 'spec_T']\n",
    "df = df.drop(columns=columns)\n",
    "print(df.shape)\n",
    "print(df.isnull().sum())"
   ]
  },
  {
   "cell_type": "markdown",
   "id": "b29bedee",
   "metadata": {},
   "source": []
  },
  {
   "cell_type": "code",
   "execution_count": 35,
   "id": "8ec9d609",
   "metadata": {},
   "outputs": [
    {
     "name": "stdout",
     "output_type": "stream",
     "text": [
      "(136760, 20)\n",
      "a                 0\n",
      "e                 0\n",
      "i                 0\n",
      "om                0\n",
      "w                 0\n",
      "q                 0\n",
      "ad                0\n",
      "per_y             0\n",
      "data_arc          0\n",
      "condition_code    0\n",
      "n_obs_used        0\n",
      "H                 0\n",
      "neo               0\n",
      "pha               0\n",
      "diameter          0\n",
      "moid              0\n",
      "class             0\n",
      "n                 0\n",
      "per               0\n",
      "ma                0\n",
      "dtype: int64\n"
     ]
    }
   ],
   "source": [
    "df.dropna(how='all', axis=1, inplace=True)\n",
    "df.dropna(how='any', axis=0, inplace=True)\n",
    "print(df.shape)\n",
    "print(df.isnull().sum())"
   ]
  },
  {
   "cell_type": "markdown",
   "id": "5ac67b02",
   "metadata": {},
   "source": [
    "## Determine Feature Selection"
   ]
  },
  {
   "cell_type": "code",
   "execution_count": null,
   "id": "db9a996c",
   "metadata": {},
   "outputs": [],
   "source": [
    "# ANOVA on features on target to determine which features are significant\n",
    "#anova = SelectKBest(k=10)\n",
    "# fitting ANOVA model with features and target\n",
    "#anova.fit(x, y)\n",
    "\n",
    "# origin airport causes most effect in model\n",
    "#for i in range(len(x.columns)):\n",
    "   # print(f'{x.columns[i]}: {anova.scores_[i]}')"
   ]
  }
 ],
 "metadata": {
  "kernelspec": {
   "display_name": "Python 3 (ipykernel)",
   "language": "python",
   "name": "python3"
  },
  "language_info": {
   "codemirror_mode": {
    "name": "ipython",
    "version": 3
   },
   "file_extension": ".py",
   "mimetype": "text/x-python",
   "name": "python",
   "nbconvert_exporter": "python",
   "pygments_lexer": "ipython3",
   "version": "3.8.5"
  }
 },
 "nbformat": 4,
 "nbformat_minor": 5
}
